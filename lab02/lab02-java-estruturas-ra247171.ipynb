{
 "cells": [
  {
   "cell_type": "markdown",
   "metadata": {},
   "source": [
    "# Laboratório em Estruturas de Programação Java\n",
    "\n",
    "O laboratório a seguir serve para praticar estruturas de programação Java sem compromisso com a orientação a objetos."
   ]
  },
  {
   "cell_type": "markdown",
   "metadata": {},
   "source": [
    "## Desafio 1 - Empréstimo\n",
    "\n",
    "Em um financiamento com juros compostos e número de parcelas fixas parte-se dos seguintes parâmetros:\n",
    "* `S` - valor da primeira parcela\n",
    "* `N` - número de parcelas\n",
    "* `J` - percentual de juros mensal\n",
    "\n",
    "A primeira parcela a ser paga do financiamento é sempre igual a `S`. A partir daí é feita uma atualização mensal da parcela, em que cada nova parcela é calculada a partir da parcela do mês anterior, conforme a fórmula:\n",
    "\n",
    "> Parcela<sub>mês</sub> = Parcela<sub>mês-1</sub> * (1 + `J` / 100)\n",
    "\n",
    "O financiamento encerra quando as `N` parcelas são pagas.\n",
    "\n",
    "Exemplo:\n",
    "* `S`: 200\n",
    "* `N`: 5\n",
    "* `J`: 1%\n",
    "\n",
    "Parcelas do financiamento:\n",
    "`200`; `202`; `204.02`; `206.06`; `208.12`"
   ]
  },
  {
   "cell_type": "markdown",
   "metadata": {},
   "source": [
    "### Desafio 1 / Parte 1 - Escrevendo o programa sem módulos\n",
    "\n",
    "Dado o problema descrito, escreva um programa que calcule as parcelas de um empréstimo para os seguintes valores:\n",
    "* S: 200\n",
    "* N: 5\n",
    "* J: 1%\n",
    "\n",
    "Nesta versão não use outro módulo além da função principal."
   ]
  },
  {
   "cell_type": "code",
   "execution_count": 2,
   "metadata": {},
   "outputs": [
    {
     "name": "stdout",
     "output_type": "stream",
     "text": [
      "200.00\n",
      "202.00\n",
      "204.02\n",
      "206.06\n",
      "208.12\n"
     ]
    },
    {
     "data": {
      "text/plain": [
       "null"
      ]
     },
     "execution_count": 2,
     "metadata": {},
     "output_type": "execute_result"
    }
   ],
   "source": [
    "float s = 200;\n",
    "int n = 5;\n",
    "float j = 1;\n",
    "\n",
    "for(int i = 0; i < n; i++) {\n",
    "    System.out.printf(\"%.2f\\n\", s);\n",
    "    s *= (1 + j/100);\n",
    "}"
   ]
  },
  {
   "cell_type": "markdown",
   "metadata": {},
   "source": [
    "### Desafio 1 / Parte 2 - Escrevendo módulos\n",
    "\n",
    "Reescreva o código acima de forma que seu programa faça uso de uma função que seja responsável pelo cálculo de uma parcela X do empréstimo. Podem ser usadas mais funções (métodos) conforme a necessidade."
   ]
  },
  {
   "cell_type": "code",
   "execution_count": 3,
   "metadata": {},
   "outputs": [],
   "source": [
    "public class Programa {\n",
    "\tpublic static float calcularParcela(float s, float j, int n) {\n",
    "\t\tfloat r = s;\n",
    "\t\tfor(int i = 1; i < n; i++) {\n",
    "\t\t\tr *= (1 + j/100);\n",
    "\t\t}\n",
    "\t\treturn r;\n",
    "\t}\t\n",
    "}"
   ]
  },
  {
   "cell_type": "code",
   "execution_count": 4,
   "metadata": {},
   "outputs": [
    {
     "name": "stdout",
     "output_type": "stream",
     "text": [
      "208.12\n"
     ]
    },
    {
     "data": {
      "text/plain": [
       "null"
      ]
     },
     "execution_count": 4,
     "metadata": {},
     "output_type": "execute_result"
    }
   ],
   "source": [
    "float s = 200;\n",
    "float j = 1;\n",
    "int n = 5;\n",
    "System.out.printf(\"%.2f\\n\", Programa.calcularParcela(s, j, n));"
   ]
  },
  {
   "cell_type": "markdown",
   "metadata": {},
   "source": [
    "## Desafio 2\n",
    "\n",
    "Escreva um programa que sorteie um número inteiro entre `0` e `9999` o número deve ser mostrado, em seguida convertido para binário e a versão binária deve ser apresentada no console. A conversão decimal/binário deve ser computada por um programa feito por você."
   ]
  },
  {
   "cell_type": "code",
   "execution_count": 9,
   "metadata": {},
   "outputs": [
    {
     "data": {
      "text/plain": [
       "com.twosigma.beaker.javash.bkrfc556e97.Programa"
      ]
     },
     "execution_count": 9,
     "metadata": {},
     "output_type": "execute_result"
    }
   ],
   "source": [
    "public class Programa {\t\n",
    "\tpublic static String binario(int n) {\n",
    "\t\tString resultado = \"\";\n",
    "\t\twhile(n != 0) {\n",
    "\t\t\tresultado = (n % 2) + resultado;\n",
    "\t\t\tif(n % 2 != 0) {\n",
    "\t\t\t\tn = (n-1)/2;\n",
    "\t\t\t} else {\n",
    "\t\t\t\tn = n/2;\n",
    "\t\t\t}\n",
    "\t\t}\n",
    "\t\treturn resultado;\n",
    "\t}\n",
    "}"
   ]
  },
  {
   "cell_type": "code",
   "execution_count": 10,
   "metadata": {},
   "outputs": [
    {
     "name": "stdout",
     "output_type": "stream",
     "text": [
      "1478\n",
      "10111000110\n"
     ]
    },
    {
     "data": {
      "text/plain": [
       "null"
      ]
     },
     "execution_count": 10,
     "metadata": {},
     "output_type": "execute_result"
    }
   ],
   "source": [
    "import java.util.Random;\n",
    "\n",
    "Random rand = new Random();\n",
    "int numero = rand.nextInt(9999);\n",
    "System.out.println(numero);\n",
    "System.out.println(Programa.binario(numero));"
   ]
  },
  {
   "cell_type": "markdown",
   "metadata": {},
   "source": [
    "## Desafio 3\n",
    "\n",
    "Uma molécula de DNA pode ser definida a partir de uma cadeia que representa a sequência de suas bases:\n",
    "A - Adenina\n",
    "C - Citisina\n",
    "G - Guanina\n",
    "T - Tinina\n",
    "\n",
    "Desse modo, uma string pode ser usada para representar um segmento do DNA da seguinte maneira: `ATTACGCGCAAAC`.\n",
    "\n",
    "Escreva uma função (método) que codifique a cadeia de RNA produzida a partir de uma cadeia de DNA. A função deve ser genérica o suficiente para ser aplicável a qualquer cadeia. A entrada é uma string (DNA) e o retorno é uma string (RNA).\n",
    "\n",
    "Escreva um programa que teste esta função com uma cadeia de DNA de sua escolha."
   ]
  },
  {
   "cell_type": "code",
   "execution_count": 11,
   "metadata": {},
   "outputs": [
    {
     "data": {
      "text/plain": [
       "com.twosigma.beaker.javash.bkrfc556e97.Programa"
      ]
     },
     "execution_count": 11,
     "metadata": {},
     "output_type": "execute_result"
    }
   ],
   "source": [
    "public class Programa {\t\n",
    "\tpublic static String transcrever(String DNA) {\n",
    "\t\tString RNA = \"\";\n",
    "\t\tfor(int i = 0; i < DNA.length(); i++) {\n",
    "\t\t\tchar l = DNA.charAt(i);\n",
    "\t\t\tif(l == 'A')\n",
    "\t\t\t\tRNA += \"U\";\n",
    "\t\t\telse if(l == 'T')\n",
    "\t\t\t\tRNA += \"A\";\n",
    "\t\t\telse if(l == 'C')\n",
    "\t\t\t\tRNA += \"G\";\n",
    "\t\t\telse if(l == 'G')\n",
    "\t\t\t\tRNA += \"C\";\n",
    "\t\t}\n",
    "\t\treturn RNA;\n",
    "\t}\n",
    "}"
   ]
  },
  {
   "cell_type": "code",
   "execution_count": 13,
   "metadata": {},
   "outputs": [
    {
     "name": "stdout",
     "output_type": "stream",
     "text": [
      "DNA: ATTACGCGCAAAC\n",
      "RNA: UAAUGCGCGUUUG\n"
     ]
    },
    {
     "data": {
      "text/plain": [
       "null"
      ]
     },
     "execution_count": 13,
     "metadata": {},
     "output_type": "execute_result"
    }
   ],
   "source": [
    "String DNA = \"ATTACGCGCAAAC\";\n",
    "System.out.println(\"DNA: \" + DNA + \"\\nRNA: \"+ Programa.transcrever(DNA));"
   ]
  },
  {
   "cell_type": "markdown",
   "metadata": {},
   "source": [
    "## Desafio 4\n",
    "\n",
    "Uma empresa precisa realizar uma estatística do salário de seus funcionários.\n",
    "\n",
    "Para fins de teste, os salários devem ser gerados aleatoriamente com valores variando entre R\\\\$ 2.500 e R\\\\$ 15.000.\n",
    "\n",
    "Escreva um programa que gere uma lista contendo os salários de 50 funcionários da empresa e mostre no console quantos funcionários ganham salário acima da média."
   ]
  },
  {
   "cell_type": "code",
   "execution_count": 21,
   "metadata": {},
   "outputs": [
    {
     "name": "stdout",
     "output_type": "stream",
     "text": [
      "9293.90\n",
      "12140.96\n",
      "10135.80\n",
      "12012.07\n",
      "10007.42\n",
      "12377.47\n",
      "10849.41\n",
      "13535.28\n",
      "10817.76\n",
      "11460.28\n",
      "12572.94\n",
      "10741.89\n",
      "10544.65\n",
      "13817.89\n",
      "10804.59\n",
      "12214.37\n",
      "10967.50\n",
      "14743.33\n",
      "9807.25\n",
      "9953.76\n",
      "13882.22\n",
      "11328.70\n",
      "10615.98\n",
      "14557.81\n",
      "14565.32\n",
      "9277.28\n",
      "14125.04\n",
      "11557.35\n",
      "10070.33\n"
     ]
    },
    {
     "data": {
      "text/plain": [
       "null"
      ]
     },
     "execution_count": 21,
     "metadata": {},
     "output_type": "execute_result"
    }
   ],
   "source": [
    "import java.util.Random;\n",
    "\n",
    "int n = 50;\n",
    "int min = 2500;\n",
    "int max = 15000;\n",
    "float media = 0;    \n",
    "Random rand = new Random();\n",
    "float salarios[] = new float[n];        \n",
    "for(int i = 0; i < n; i++){\n",
    "    salarios[i] = min + rand.nextFloat()*(max - min);\n",
    "    media += salarios[i]/n;\n",
    "}   \n",
    "for(int i = 0; i < n; i++) {\n",
    "    if(salarios[i] > media) {\n",
    "    \tSystem.out.printf(\"%.2f\\n\", salarios[i]);\n",
    "    }\n",
    "}"
   ]
  },
  {
   "cell_type": "code",
   "execution_count": null,
   "metadata": {},
   "outputs": [],
   "source": []
  }
 ],
 "metadata": {
  "kernelspec": {
   "display_name": "Java",
   "language": "java",
   "name": "java"
  },
  "language_info": {
   "codemirror_mode": "text/x-java",
   "file_extension": ".java",
   "mimetype": "",
   "name": "Java",
   "nbconverter_exporter": "",
   "version": "1.8.0_121"
  },
  "toc": {
   "base_numbering": 1,
   "nav_menu": {},
   "number_sections": false,
   "sideBar": false,
   "skip_h1_title": false,
   "title_cell": "Table of Contents",
   "title_sidebar": "Contents",
   "toc_cell": false,
   "toc_position": {},
   "toc_section_display": false,
   "toc_window_display": false
  }
 },
 "nbformat": 4,
 "nbformat_minor": 4
}
